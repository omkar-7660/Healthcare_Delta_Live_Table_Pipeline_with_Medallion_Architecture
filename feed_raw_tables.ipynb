{
 "cells": [
  {
   "cell_type": "code",
   "execution_count": 0,
   "metadata": {
    "application/vnd.databricks.v1+cell": {
     "cellMetadata": {
      "byteLimit": 2048000,
      "rowLimit": 10000
     },
     "inputWidgets": {},
     "nuid": "3f05f3ea-2603-43fb-b327-129a0635cf45",
     "showTitle": false,
     "tableResultSettingsMap": {},
     "title": ""
    }
   },
   "outputs": [],
   "source": [
    "df=spark.read.option('inferSchema', 'true')\\\n",
    "    .option('header','true').csv(\"/Volumes/increamental_load/default/healthcare_data/diagnosis_mapping.csv\")"
   ]
  },
  {
   "cell_type": "code",
   "execution_count": 0,
   "metadata": {
    "application/vnd.databricks.v1+cell": {
     "cellMetadata": {
      "byteLimit": 2048000,
      "rowLimit": 10000
     },
     "inputWidgets": {},
     "nuid": "873179d9-f9a1-4ae0-9379-23b85c012dde",
     "showTitle": false,
     "tableResultSettingsMap": {},
     "title": ""
    }
   },
   "outputs": [],
   "source": [
    "df.display()\n",
    "df.write.format(\"delta\").mode('overwrite').saveAsTable(\"increamental_load.default.raw_diagnosis_map\")\n",
    "\n",
    "# here mode should by overwrite as it is mostly static data. "
   ]
  },
  {
   "cell_type": "code",
   "execution_count": 0,
   "metadata": {
    "application/vnd.databricks.v1+cell": {
     "cellMetadata": {
      "byteLimit": 2048000,
      "rowLimit": 10000
     },
     "inputWidgets": {},
     "nuid": "0a242221-0206-4301-8517-cb9a15b41fd6",
     "showTitle": false,
     "tableResultSettingsMap": {},
     "title": ""
    }
   },
   "outputs": [],
   "source": [
    "from pyspark.sql.functions import col , sum , add_months\n",
    "path1=\"/Volumes/increamental_load/default/healthcare_data/patients_daily_file_1_2024.csv\"\n",
    "path2=\"/Volumes/increamental_load/default/healthcare_data/patients_daily_file_2_2024.csv\"\n",
    "path3=\"/Volumes/increamental_load/default/healthcare_data/patients_daily_file_3_2024.csv\"\n",
    "\n",
    "\n",
    "df1=spark.read.option('header','true').option('inferschema','true')\\\n",
    "    .csv(f\"{path1}\")\n",
    "\n",
    "df1=df1.withColumn('admission_date',col('admission_date').cast('date'))\n",
    "df1.display()"
   ]
  },
  {
   "cell_type": "code",
   "execution_count": 0,
   "metadata": {
    "application/vnd.databricks.v1+cell": {
     "cellMetadata": {
      "byteLimit": 2048000,
      "rowLimit": 10000
     },
     "inputWidgets": {},
     "nuid": "3e365ecc-27c5-4b1a-a218-8082bda570bf",
     "showTitle": false,
     "tableResultSettingsMap": {},
     "title": ""
    }
   },
   "outputs": [],
   "source": [
    "df1.write.format('delta').option('mergeSchema','true')\\\n",
    "    .saveAsTable('increamental_load.default.raw_patient_daily')"
   ]
  }
 ],
 "metadata": {
  "application/vnd.databricks.v1+notebook": {
   "computePreferences": null,
   "dashboards": [],
   "environmentMetadata": {
    "base_environment": "",
    "environment_version": "2"
   },
   "inputWidgetPreferences": null,
   "language": "python",
   "notebookMetadata": {
    "pythonIndentUnit": 4
   },
   "notebookName": "feed_raw_tables",
   "widgets": {}
  },
  "language_info": {
   "name": "python"
  }
 },
 "nbformat": 4,
 "nbformat_minor": 0
}
