{
 "cells": [
  {
   "cell_type": "code",
   "execution_count": 0,
   "metadata": {
    "application/vnd.databricks.v1+cell": {
     "cellMetadata": {
      "byteLimit": 2048000,
      "implicitDf": true,
      "rowLimit": 10000
     },
     "inputWidgets": {},
     "nuid": "15de8257-c07e-4d7c-ad82-2c73e8f819cf",
     "showTitle": false,
     "tableResultSettingsMap": {},
     "title": ""
    }
   },
   "outputs": [],
   "source": [
    "spark.sql(\n",
    "\"\"\"\n",
    "CREATE TABLE increamental_load.default.diagnostic_mapping\n",
    "USING DELTA\n",
    "COMMENT \"bronze level for the diagnostic mapping table\"\n",
    "TBLPROPERTIES(\"QUALITY\"=\"bronze\")\n",
    "AS\n",
    "SELECT * FROM increamental_load.default.raw_diagnosis_map\n",
    "\"\"\"\n",
    ")"
   ]
  },
  {
   "cell_type": "code",
   "execution_count": 0,
   "metadata": {
    "application/vnd.databricks.v1+cell": {
     "cellMetadata": {},
     "inputWidgets": {},
     "nuid": "251045bc-1a60-40ff-a364-c0f233e850d3",
     "showTitle": false,
     "tableResultSettingsMap": {},
     "title": ""
    }
   },
   "outputs": [],
   "source": [
    "%sql\n",
    "CREATE OR REPLACE STREAMING TABLE increamental_load.default.diagnostic_mapping\n",
    "USING DELTA\n",
    "COMMENT \"This table contains the DAILY patients\"\n",
    "TBLPROPERTIES ('quality' = 'bronze')\n",
    "\n",
    "AS\n",
    "SELECT * FROM STREAM(increamental_load.default.patients_daily)\n",
    "\n",
    "\n"
   ]
  },
  {
   "cell_type": "code",
   "execution_count": 0,
   "metadata": {
    "application/vnd.databricks.v1+cell": {
     "cellMetadata": {
      "byteLimit": 2048000,
      "implicitDf": true,
      "rowLimit": 10000
     },
     "inputWidgets": {},
     "nuid": "1e283357-8774-4507-841e-2fd8408a1cde",
     "showTitle": false,
     "tableResultSettingsMap": {},
     "title": ""
    }
   },
   "outputs": [],
   "source": [
    "\n",
    "# -- CREATE OR REFRESH STREAMING TABLE processed_patient_data(CONSTRAINT valid_data EXPECT (patient_id IS NOT NULL and `name` IS NOT NULL and age IS NOT NULL and gender IS NOT NULL and `address` IS NOT NULL and contact_number IS NOT NULL and admission_date IS NOT NULL) ON VIOLATION DROP ROW)\n",
    "# -- COMMENT \"Silver table with newly joined data from bronze tables and data quality constraints\"\n",
    "# -- TBLPROPERTIES (\"quality\" = \"silver\")\n",
    "# -- AS\n",
    "# -- SELECT\n",
    "# --     p.patient_id,\n",
    "# --     p.name,\n",
    "# --     p.age,\n",
    "# --     p.gender,\n",
    "# --     p.address,\n",
    "# --     p.contact_number,\n",
    "# --     p.admission_date,\n",
    "# --     m.diagnosis_description\n",
    "# -- FROM STREAM(live.daily_patients) p\n",
    "# -- LEFT JOIN live.diagnostic_mapping m\n",
    "# -- ON p.diagnosis_code = m.diagnosis_code;\n",
    "\n",
    "# Above code has commented because the constraint we have used those are not supported\n",
    "# in Product edition(core, pro, advanced), here we selected the core\n",
    "\n",
    "CREATE OR REFRESH STREAMING TABLE processed_patient_data\n",
    "COMMENT \"Silver table with newly joined data from bronze tables and data quality constraints\"\n",
    "TBLPROPERTIES (\"quality\" = \"silver\")\n",
    "AS\n",
    "SELECT\n",
    "    p.patient_id,\n",
    "    p.name,\n",
    "    p.age,\n",
    "    p.gender,\n",
    "    p.address,\n",
    "    p.contact_number,\n",
    "    p.admission_date,\n",
    "    m.diagnosis_description\n",
    "FROM STREAM(live.daily_patients) p\n",
    "LEFT JOIN live.diagnostic_mapping m\n",
    "ON p.diagnosis_code = m.diagnosis_code;\n",
    "\n"
   ]
  },
  {
   "cell_type": "code",
   "execution_count": 0,
   "metadata": {
    "application/vnd.databricks.v1+cell": {
     "cellMetadata": {},
     "inputWidgets": {},
     "nuid": "ca9a33ce-ab6c-4954-ac89-cf52c6a3e9b9",
     "showTitle": false,
     "tableResultSettingsMap": {},
     "title": ""
    }
   },
   "outputs": [],
   "source": [
    "\n",
    "CREATE LIVE TABLE patient_statistics_by_diagnosis\n",
    "COMMENT \"Gold table with detailed patient statistics by diagnosis description\"\n",
    "TBLPROPERTIES (\"quality\" = \"gold\")\n",
    "AS\n",
    "SELECT\n",
    "    diagnosis_description,\n",
    "    COUNT(patient_id) AS patient_count,\n",
    "    AVG(age) AS avg_age,\n",
    "    COUNT(DISTINCT gender) AS unique_gender_count,\n",
    "    MIN(age) AS min_age,\n",
    "    MAX(age) AS max_age\n",
    "FROM live.processed_patient_data\n",
    "GROUP BY diagnosis_description;"
   ]
  },
  {
   "cell_type": "code",
   "execution_count": 0,
   "metadata": {
    "application/vnd.databricks.v1+cell": {
     "cellMetadata": {},
     "inputWidgets": {},
     "nuid": "02a2f2a3-1417-4f09-afd1-efdeaf29a6f2",
     "showTitle": false,
     "tableResultSettingsMap": {},
     "title": ""
    }
   },
   "outputs": [],
   "source": []
  },
  {
   "cell_type": "code",
   "execution_count": 0,
   "metadata": {
    "application/vnd.databricks.v1+cell": {
     "cellMetadata": {},
     "inputWidgets": {},
     "nuid": "3382d8c8-0e7b-4c3e-9479-e2f420a942b5",
     "showTitle": false,
     "tableResultSettingsMap": {},
     "title": ""
    }
   },
   "outputs": [],
   "source": [
    "CREATE LIVE TABLE patient_statistics_by_gender\n",
    "COMMENT \"Gold table with detailed patient statistics by gender\"\n",
    "TBLPROPERTIES (\"quality\" = \"gold\")\n",
    "AS\n",
    "SELECT\n",
    "    gender,\n",
    "    COUNT(patient_id) AS patient_count,\n",
    "    AVG(age) AS avg_age,\n",
    "    COUNT(DISTINCT diagnosis_description) AS unique_diagnosis_count,\n",
    "    MIN(age) AS min_age,\n",
    "    MAX(age) AS max_age\n",
    "FROM live.processed_patient_data\n",
    "GROUP BY gender;"
   ]
  }
 ],
 "metadata": {
  "application/vnd.databricks.v1+notebook": {
   "computePreferences": null,
   "dashboards": [],
   "environmentMetadata": {
    "base_environment": "",
    "environment_version": "2"
   },
   "inputWidgetPreferences": null,
   "language": "python",
   "notebookMetadata": {
    "mostRecentlyExecutedCommandWithImplicitDF": {
     "commandId": -1,
     "dataframes": [
      "_sqldf"
     ]
    },
    "pythonIndentUnit": 4
   },
   "notebookName": "healthcare_dlt_pipeline",
   "widgets": {}
  },
  "language_info": {
   "name": "python"
  }
 },
 "nbformat": 4,
 "nbformat_minor": 0
}
